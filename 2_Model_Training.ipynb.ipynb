{
 "cells": [
  {
   "cell_type": "code",
   "execution_count": 4,
   "id": "ee45f8a4-03b4-4e26-8b08-c497de72f775",
   "metadata": {},
   "outputs": [
    {
     "name": "stdout",
     "output_type": "stream",
     "text": [
      "--- Reverting to the Simpler, Better-Performing Model ---\n",
      "Loading 'upi_transactions.csv'...\n",
      "...Dataset loaded successfully.\n",
      "Creating simple features...\n",
      "...'hour_of_day' feature created.\n",
      "\n",
      "Training the model on the simple but effective feature set...\n",
      "...Model training complete.\n",
      "Better-performing model saved to 'fraud_model.joblib'\n",
      "\n",
      "--- Model Evaluation ---\n",
      "Classification Report:\n",
      "              precision    recall  f1-score   support\n",
      "\n",
      "  Normal (0)       0.98      0.98      0.98      1000\n",
      "   Fraud (1)       0.40      0.40      0.40        30\n",
      "\n",
      "    accuracy                           0.97      1030\n",
      "   macro avg       0.69      0.69      0.69      1030\n",
      "weighted avg       0.97      0.97      0.97      1030\n",
      "\n"
     ]
    }
   ],
   "source": [
    "# --- Imports ---\n",
    "import pandas as pd\n",
    "import numpy as np\n",
    "import joblib\n",
    "from sklearn.ensemble import IsolationForest\n",
    "from sklearn.metrics import classification_report\n",
    "\n",
    "print(\"--- Reverting to the Simpler, Better-Performing Model ---\")\n",
    "\n",
    "# --- Step 1: Load the Dataset ---\n",
    "print(\"Loading 'upi_transactions.csv'...\")\n",
    "try:\n",
    "    df = pd.read_csv('upi_transactions.csv')\n",
    "    df['timestamp'] = pd.to_datetime(df['timestamp'])\n",
    "    print(\"...Dataset loaded successfully.\")\n",
    "except FileNotFoundError:\n",
    "    print(\"Error: 'upi_transactions.csv' not found.\")\n",
    "\n",
    "# --- Step 2: Simple Feature Engineering ---\n",
    "print(\"Creating simple features...\")\n",
    "df['hour_of_day'] = df['timestamp'].dt.hour\n",
    "print(\"...'hour_of_day' feature created.\")\n",
    "\n",
    "# --- Step 3: Train the Model with Simple Features ---\n",
    "print(\"\\nTraining the model on the simple but effective feature set...\")\n",
    "\n",
    "# We use only the two features that we know work well\n",
    "features = ['amount', 'hour_of_day']\n",
    "X = df[features]\n",
    "y = df['is_fraud']\n",
    "\n",
    "contamination_rate = y.mean()\n",
    "model = IsolationForest(n_estimators=100, contamination=contamination_rate, random_state=42)\n",
    "model.fit(X)\n",
    "\n",
    "print(\"...Model training complete.\")\n",
    "\n",
    "# --- Step 4: Save the Trained Model ---\n",
    "joblib.dump(model, 'fraud_model.joblib')\n",
    "print(\"Better-performing model saved to 'fraud_model.joblib'\")\n",
    "\n",
    "# --- Step 5: Evaluate the Model's Performance ---\n",
    "print(\"\\n--- Model Evaluation ---\")\n",
    "predictions = model.predict(X)\n",
    "pred_labels = np.where(predictions == -1, 1, 0)\n",
    "report = classification_report(y, pred_labels, target_names=['Normal (0)', 'Fraud (1)'])\n",
    "\n",
    "print(\"Classification Report:\")\n",
    "print(report)\n"
   ]
  },
  {
   "cell_type": "code",
   "execution_count": null,
   "id": "a2fd026b-12c5-4af9-8af7-2d5676c2cb29",
   "metadata": {},
   "outputs": [],
   "source": []
  }
 ],
 "metadata": {
  "kernelspec": {
   "display_name": "Python 3 (ipykernel)",
   "language": "python",
   "name": "python3"
  },
  "language_info": {
   "codemirror_mode": {
    "name": "ipython",
    "version": 3
   },
   "file_extension": ".py",
   "mimetype": "text/x-python",
   "name": "python",
   "nbconvert_exporter": "python",
   "pygments_lexer": "ipython3",
   "version": "3.9.23"
  }
 },
 "nbformat": 4,
 "nbformat_minor": 5
}
